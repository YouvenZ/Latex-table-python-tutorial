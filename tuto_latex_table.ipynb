{
 "cells": [
  {
   "cell_type": "code",
   "execution_count": null,
   "id": "f1eb8f8f",
   "metadata": {},
   "outputs": [],
   "source": [
    "import pandas as pd\n",
    "import re\n",
    "def save_latex_table(df, filename=\"table.tex\", float_format=\"%.2f\", caption=\"Table Caption\", label=\"tab:label\", center=True,position='h!'):\n",
    "    \"\"\"\n",
    "    Saves a Pandas DataFrame as a .tex file with the necessary LaTeX packages.\n",
    "\n",
    "    Parameters:\n",
    "    - df (pd.DataFrame): The DataFrame to convert to LaTeX.\n",
    "    - filename (str): The output .tex filename.\n",
    "    - float_format (str): Format for floating-point numbers.\n",
    "    - caption (str): Caption for the LaTeX table.\n",
    "    - label (str): Label for referencing the table in LaTeX.\n",
    "    - center (bool): Whether to add \\centering to center the table in LaTeX.\n",
    "    \"\"\"\n",
    "    # Generate LaTeX table without escaping LaTeX commands\n",
    "    latex_table = df.to_latex(index=False, float_format=float_format, caption=caption, label=label, \n",
    "                              column_format=\"l\" + \"c\"*(len(df.columns)-1), escape=False,position=position)\n",
    "\n",
    "    # Ensure \\centering is added after \\begin{table}, but before \\begin{tabular}\n",
    "    if center:\n",
    "        pattern = r\"\\\\begin\\{table\\}\\[.*?\\]\"  # Matches \\begin{table}[...]\n",
    "        replacement = r\"\\\\begin{}[{}]\\n\\\\centering\".format('{table}',position)\n",
    "        latex_table = re.sub(pattern, replacement, latex_table, count=1) \n",
    "\n",
    "    # Wrap in full LaTeX document\n",
    "    latex_code = r\"\"\"\n",
    "\\documentclass{article}\n",
    "\\usepackage{booktabs}  % For professional-looking tables\n",
    "\\usepackage{longtable} % For long tables that span multiple pages\n",
    "\\usepackage{graphicx}  % Allows table resizing\n",
    "\\usepackage{adjustbox} % To resize the table if needed\n",
    "\\begin{document}\n",
    "\"\"\" + latex_table + r\"\"\"\n",
    "\\end{document}\n",
    "\"\"\"\n",
    "\n",
    "    # Write LaTeX code to file\n",
    "    with open(filename, \"w\") as f:\n",
    "        f.write(latex_code)\n",
    "\n",
    "    print(f\"LaTeX table saved to {filename}\")\n",
    "\n",
    "def save_latex_table_styled(df, filename=\"table.tex\", float_format=\"%.2f\", caption=\"Table Caption\", label=\"tab:label\", center=True):\n",
    "    \"\"\"\n",
    "    Saves a Pandas DataFrame as a .tex file with the necessary LaTeX packages.\n",
    "\n",
    "    Parameters:\n",
    "    - df (pd.DataFrame): The DataFrame to convert to LaTeX.\n",
    "    - filename (str): The output .tex filename.\n",
    "    - float_format (str): Format for floating-point numbers.\n",
    "    - caption (str): Caption for the LaTeX table.\n",
    "    - label (str): Label for referencing the table in LaTeX.\n",
    "    - center (bool): Whether to add \\centering to center the table in LaTeX.\n",
    "    \"\"\"\n",
    "    # Generate LaTeX table without escaping LaTeX commands\n",
    "    latex_table = df.to_latex()\n",
    "\n",
    "    # Ensure \\centering is added after \\begin{table}, but before \\begin{tabular}\n",
    "\n",
    "    # Manually add LaTeX table environment\n",
    "    latex_code = r\"\"\"\\begin{table}[h!]\"\"\" + (\"\\n\\\\centering\" if center else \"\") + f\"\"\"\n",
    "{latex_table}\n",
    "\\\\caption{{{caption}}}\n",
    "\\\\label{{{label}}}\n",
    "\\\\end{{table}}\n",
    "\"\"\"    \n",
    "\n",
    "    # Write LaTeX code to file\n",
    "    with open(filename, \"w\") as f:\n",
    "        f.write(latex_code)\n",
    "\n",
    "    print(f\"LaTeX table saved to {filename}\")\n",
    "\n",
    "\n",
    "\n"
   ]
  },
  {
   "cell_type": "code",
   "execution_count": null,
   "id": "54d93649-8288-4496-a1fa-a5c46cea2177",
   "metadata": {},
   "outputs": [],
   "source": [
    "df_employee_data = pd.read_csv('employee_data.csv')\n",
    "df_experiment_data = pd.read_csv('experiment_data.csv')\n",
    "df_large_table_1 = pd.read_csv('large_table_1.csv')\n",
    "df_large_table_2 = pd.read_csv('large_table_2.csv')\n"
   ]
  },
  {
   "cell_type": "code",
   "execution_count": null,
   "id": "13d54ff8",
   "metadata": {},
   "outputs": [],
   "source": [
    "df_employee_data"
   ]
  },
  {
   "cell_type": "code",
   "execution_count": null,
   "id": "b6ec8544",
   "metadata": {},
   "outputs": [],
   "source": [
    "df_experiment_data"
   ]
  },
  {
   "cell_type": "markdown",
   "id": "afb542f0",
   "metadata": {},
   "source": [
    "## Create latex table with caption and label from a csv"
   ]
  },
  {
   "cell_type": "code",
   "execution_count": null,
   "id": "951f185c",
   "metadata": {},
   "outputs": [],
   "source": [
    "save_latex_table(df_employee_data, filename=\"table.tex\", float_format=\"%.2f\", caption=\"Table Caption\", label=\"tab:label\", center=True)"
   ]
  },
  {
   "cell_type": "markdown",
   "id": "d5d4b035",
   "metadata": {},
   "source": [
    "## Highlight specific value of the latex table based on some criteria!"
   ]
  },
  {
   "cell_type": "code",
   "execution_count": null,
   "id": "49b828b4",
   "metadata": {},
   "outputs": [],
   "source": [
    "def highlight_high_values(val):\n",
    "    return \"\\\\textbf{\" + str(val) + \"}\" if val > 90 else str(val)\n",
    "\n",
    "\n",
    "df_styled = df_experiment_data.style.format({col: highlight_high_values for col in [\"Temperature (°C)\", \"Success Rate ($\\\\%$)\"]})\n",
    "\n",
    "print(df_styled.to_latex())\n",
    "\n",
    "def _highlight_high_values1(val):\n",
    "    df_col = df_experiment_data[\"Temperature (°C)\"]\n",
    "    val_test = df_col.max(\n",
    "    )\n",
    "    return \"\\\\textbf{\" + str(val) + \"}\" if val < val_test else str(val)\n",
    "\n",
    "\n",
    "def _highlight_high_values2(val):\n",
    "    df_col = df_experiment_data[\"Success Rate ($\\\\%$)\"]\n",
    "    val_test = df_col.max(\n",
    "    )\n",
    "    return \"\\\\textbf{\" + str(val) + \"}\" if val < val_test else str(val)\n",
    "\n",
    "\n",
    "\n",
    "# Apply the function to format the table\n",
    "df_styled = df_experiment_data.style.format({col: f for f, col in zip([_highlight_high_values1,_highlight_high_values2],[\"Temperature (°C)\",\"Success Rate ($\\\\%$)\"])})\n",
    "print(df_styled.to_latex())\n",
    "\n",
    "save_latex_table_styled(df_styled, filename=\"styled_table.tex\", caption=\"styled table some values are in bold\", label=\"tab:styled\")\n",
    "\n",
    "\n"
   ]
  },
  {
   "cell_type": "markdown",
   "id": "d7b68b1b",
   "metadata": {},
   "source": [
    "### Multi colunm latex table "
   ]
  },
  {
   "cell_type": "code",
   "execution_count": null,
   "id": "4fb39329",
   "metadata": {},
   "outputs": [],
   "source": [
    "df_employee = pd.DataFrame({\n",
    "    \"ID\": [101, 102, 103],\n",
    "    \"Name\": [\"Alice\", \"Bob\", \"Charlie\"],\n",
    "    \"Department\": [\"HR\", \"IT\", \"Finance\"],\n",
    "    \"Joining Date\": [\"2020-01-10\", \"2019-07-23\", \"2021-06-15\"]\n",
    "})\n",
    "\n",
    "df_employee.columns = pd.MultiIndex.from_tuples([\n",
    "    (\"Employee Info\", \"ID\"),\n",
    "    (\"Employee Info\", \"Name\"),\n",
    "    (\"Work Details\", \"Department\"),\n",
    "    (\"Work Details\", \"Joining Date\"),\n",
    "])\n",
    "\n",
    "# Export MultiIndex Table\n",
    "print(df_employee.to_latex(multicolumn=True, index=False))\n",
    "save_latex_table(df_employee, filename=\"employee_table.tex\", caption=\"Employee Details\", label=\"tab:employee\")\n"
   ]
  },
  {
   "cell_type": "markdown",
   "id": "65e221e8",
   "metadata": {},
   "source": [
    "## Controling the precision of the float inside the table."
   ]
  },
  {
   "cell_type": "code",
   "execution_count": null,
   "id": "e075e03f",
   "metadata": {},
   "outputs": [],
   "source": [
    "# Export with controlled precision\n",
    "print(df_experiment_data.to_latex( float_format=\"%.1f\"))\n",
    "\n",
    "# Save LaTeX table with scientific notation\n",
    "save_latex_table(df_experiment_data, filename=\"precision_table1.tex\", float_format=\"%.4f\", caption=\"Scientific Notation Example\", label=\"tab:precision_table1\")\n",
    "\n",
    "\n",
    "\n",
    "caption = 'Presentation of employee data.'\n",
    "label = 'tab:data_emp'\n",
    "\n",
    "save_latex_table(df_large_table_1, filename=\"precision_table2.tex\", float_format=\"%.3f\", caption=caption, label=label)\n",
    "\n"
   ]
  }
 ],
 "metadata": {
  "kernelspec": {
   "display_name": "Python [conda env:base] *",
   "language": "python",
   "name": "conda-base-py"
  },
  "language_info": {
   "codemirror_mode": {
    "name": "ipython",
    "version": 3
   },
   "file_extension": ".py",
   "mimetype": "text/x-python",
   "name": "python",
   "nbconvert_exporter": "python",
   "pygments_lexer": "ipython3",
   "version": "3.12.7"
  }
 },
 "nbformat": 4,
 "nbformat_minor": 5
}
